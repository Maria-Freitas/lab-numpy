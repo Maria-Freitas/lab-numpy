{
 "cells": [
  {
   "cell_type": "markdown",
   "metadata": {},
   "source": [
    "# Intrduction to NumPy\n",
    "\n",
    "\n",
    "#### 1. Import NumPy under the name np."
   ]
  },
  {
   "cell_type": "code",
   "execution_count": 12,
   "metadata": {},
   "outputs": [],
   "source": [
    "# your code here\n",
    "import numpy as np"
   ]
  },
  {
   "cell_type": "markdown",
   "metadata": {},
   "source": [
    "#### 2. Print your NumPy version."
   ]
  },
  {
   "cell_type": "code",
   "execution_count": 8,
   "metadata": {},
   "outputs": [
    {
     "name": "stdout",
     "output_type": "stream",
     "text": [
      "1.19.0\n"
     ]
    }
   ],
   "source": [
    "# your code here\n",
    "print(np.version.version)"
   ]
  },
  {
   "cell_type": "markdown",
   "metadata": {},
   "source": [
    "#### 3. Generate a 2x3x5 3-dimensional array with random values. Assign the array to variable *a*.\n",
    "**Challenge**: there are at least three easy ways that use numpy to generate random arrays. How many ways can you find?"
   ]
  },
  {
   "cell_type": "code",
   "execution_count": 61,
   "metadata": {},
   "outputs": [],
   "source": [
    "# Method 1  --> Integer between numbers define (being lowest Zero by default), can define size (or not)\n",
    "a=np.random.randint(100,size=(2,3,5))"
   ]
  },
  {
   "cell_type": "code",
   "execution_count": 62,
   "metadata": {},
   "outputs": [],
   "source": [
    "# Method 2 -->  Populates with samples from a uniform distribution over [0, 1) (they type is float)\n",
    "a=np.random.rand(2,3,5)   #each argument represents a part of the size"
   ]
  },
  {
   "cell_type": "code",
   "execution_count": 63,
   "metadata": {},
   "outputs": [],
   "source": [
    "# Method 3  --> Returns random floats in the half-open interval [0.0, 1.0)\n",
    "a=np.random.ranf((2,3,5))      #just takes one argumet so size need to be in parêntesis"
   ]
  },
  {
   "cell_type": "code",
   "execution_count": 64,
   "metadata": {},
   "outputs": [],
   "source": [
    "#Other --> https://docs.scipy.org/doc//numpy-1.14.0/reference/routines.random.html"
   ]
  },
  {
   "cell_type": "markdown",
   "metadata": {},
   "source": [
    "#### 4. Print *a*.\n"
   ]
  },
  {
   "cell_type": "code",
   "execution_count": 65,
   "metadata": {},
   "outputs": [
    {
     "data": {
      "text/plain": [
       "array([[[0.81654951, 0.29684034, 0.8377357 , 0.50612759, 0.10424137],\n",
       "        [0.01043203, 0.08686476, 0.91525394, 0.59884363, 0.37086566],\n",
       "        [0.92879322, 0.22369756, 0.63897708, 0.21018769, 0.17356049]],\n",
       "\n",
       "       [[0.63403854, 0.559426  , 0.51638855, 0.15113284, 0.22021606],\n",
       "        [0.0391053 , 0.13800544, 0.31714694, 0.3769959 , 0.23062361],\n",
       "        [0.14741155, 0.21381673, 0.22589677, 0.43075103, 0.68374868]]])"
      ]
     },
     "execution_count": 65,
     "metadata": {},
     "output_type": "execute_result"
    }
   ],
   "source": [
    "# your code here\n",
    "a"
   ]
  },
  {
   "cell_type": "markdown",
   "metadata": {},
   "source": [
    "#### 5. Create a 5x2x3 3-dimensional array with all values equaling 1. Assign the array to variable *b*."
   ]
  },
  {
   "cell_type": "code",
   "execution_count": 77,
   "metadata": {},
   "outputs": [],
   "source": [
    "# your code here\n",
    "b=np.ones((5,2,3))"
   ]
  },
  {
   "cell_type": "code",
   "execution_count": 44,
   "metadata": {},
   "outputs": [],
   "source": [
    "#Method 2\n",
    "b=np.full((5,2,3),1)"
   ]
  },
  {
   "cell_type": "markdown",
   "metadata": {},
   "source": [
    "#### 6. Print *b*.\n"
   ]
  },
  {
   "cell_type": "code",
   "execution_count": 78,
   "metadata": {},
   "outputs": [
    {
     "data": {
      "text/plain": [
       "array([[[1., 1., 1.],\n",
       "        [1., 1., 1.]],\n",
       "\n",
       "       [[1., 1., 1.],\n",
       "        [1., 1., 1.]],\n",
       "\n",
       "       [[1., 1., 1.],\n",
       "        [1., 1., 1.]],\n",
       "\n",
       "       [[1., 1., 1.],\n",
       "        [1., 1., 1.]],\n",
       "\n",
       "       [[1., 1., 1.],\n",
       "        [1., 1., 1.]]])"
      ]
     },
     "execution_count": 78,
     "metadata": {},
     "output_type": "execute_result"
    }
   ],
   "source": [
    "# your code here\n",
    "b"
   ]
  },
  {
   "cell_type": "markdown",
   "metadata": {},
   "source": [
    "#### 7. Do *a* and *b* have the same size? How do you prove that in Python code?"
   ]
  },
  {
   "cell_type": "code",
   "execution_count": 70,
   "metadata": {},
   "outputs": [
    {
     "name": "stdout",
     "output_type": "stream",
     "text": [
      "False\n",
      "They don't have the same size\n"
     ]
    }
   ],
   "source": [
    "# your code here\n",
    "print(a.shape==b.shape)\n",
    "print(\"They don't have the same size\")"
   ]
  },
  {
   "cell_type": "markdown",
   "metadata": {},
   "source": [
    "#### 8. Are you able to add *a* and *b*? Why or why not?\n"
   ]
  },
  {
   "cell_type": "code",
   "execution_count": 74,
   "metadata": {},
   "outputs": [
    {
     "name": "stdout",
     "output_type": "stream",
     "text": [
      "As the error says we can't sum arrays with different shapes\n"
     ]
    },
    {
     "ename": "ValueError",
     "evalue": "operands could not be broadcast together with shapes (2,3,5) (5,2,3) ",
     "output_type": "error",
     "traceback": [
      "\u001b[1;31m---------------------------------------------------------------------------\u001b[0m",
      "\u001b[1;31mValueError\u001b[0m                                Traceback (most recent call last)",
      "\u001b[1;32m<ipython-input-74-2c47abf881ea>\u001b[0m in \u001b[0;36m<module>\u001b[1;34m\u001b[0m\n\u001b[0;32m      1\u001b[0m \u001b[1;31m# your answer here\u001b[0m\u001b[1;33m\u001b[0m\u001b[1;33m\u001b[0m\u001b[1;33m\u001b[0m\u001b[0m\n\u001b[0;32m      2\u001b[0m \u001b[0mprint\u001b[0m\u001b[1;33m(\u001b[0m\u001b[1;34m\"As the error says we can't sum arrays with different shapes\"\u001b[0m\u001b[1;33m)\u001b[0m\u001b[1;33m\u001b[0m\u001b[1;33m\u001b[0m\u001b[0m\n\u001b[1;32m----> 3\u001b[1;33m \u001b[0mjunto\u001b[0m\u001b[1;33m=\u001b[0m\u001b[0ma\u001b[0m\u001b[1;33m+\u001b[0m\u001b[0mb\u001b[0m\u001b[1;33m\u001b[0m\u001b[1;33m\u001b[0m\u001b[0m\n\u001b[0m\u001b[0;32m      4\u001b[0m \u001b[0mjunto\u001b[0m\u001b[1;33m\u001b[0m\u001b[1;33m\u001b[0m\u001b[0m\n",
      "\u001b[1;31mValueError\u001b[0m: operands could not be broadcast together with shapes (2,3,5) (5,2,3) "
     ]
    }
   ],
   "source": [
    "# your answer here\n",
    "print(\"As the error says we can't sum arrays with different shapes\")\n",
    "junto=a+b\n",
    "junto"
   ]
  },
  {
   "cell_type": "markdown",
   "metadata": {},
   "source": [
    "#### 9. Transpose *b* so that it has the same structure of *a* (i.e. become a 2x3x5 array). Assign the transposed array to variable *c*."
   ]
  },
  {
   "cell_type": "code",
   "execution_count": 84,
   "metadata": {},
   "outputs": [],
   "source": [
    "# your code here\n",
    "c=np.transpose(b, (1,2,0))"
   ]
  },
  {
   "cell_type": "markdown",
   "metadata": {},
   "source": [
    "#### 10. Try to add *a* and *c*. Now it should work. Assign the sum to variable *d*. But why does it work now?"
   ]
  },
  {
   "cell_type": "code",
   "execution_count": 86,
   "metadata": {},
   "outputs": [
    {
     "name": "stdout",
     "output_type": "stream",
     "text": [
      "it works because the aarays have the same shape and so are in a sense compatible\n"
     ]
    }
   ],
   "source": [
    "# your code/answer here\n",
    "d=a+c\n",
    "print(\"it works because the aarays have the same shape and so are in a sense compatible\")"
   ]
  },
  {
   "cell_type": "markdown",
   "metadata": {},
   "source": [
    "#### 11. Print *a* and *d*. Notice the difference and relation of the two array in terms of the values? Explain."
   ]
  },
  {
   "cell_type": "code",
   "execution_count": 96,
   "metadata": {},
   "outputs": [
    {
     "name": "stdout",
     "output_type": "stream",
     "text": [
      "a: [[[0.81654951 0.29684034 0.8377357  0.50612759 0.10424137]\n",
      "  [0.01043203 0.08686476 0.91525394 0.59884363 0.37086566]\n",
      "  [0.92879322 0.22369756 0.63897708 0.21018769 0.17356049]]\n",
      "\n",
      " [[0.63403854 0.559426   0.51638855 0.15113284 0.22021606]\n",
      "  [0.0391053  0.13800544 0.31714694 0.3769959  0.23062361]\n",
      "  [0.14741155 0.21381673 0.22589677 0.43075103 0.68374868]]] \n",
      "d: [[[1.81654951 1.29684034 1.8377357  1.50612759 1.10424137]\n",
      "  [1.01043203 1.08686476 1.91525394 1.59884363 1.37086566]\n",
      "  [1.92879322 1.22369756 1.63897708 1.21018769 1.17356049]]\n",
      "\n",
      " [[1.63403854 1.559426   1.51638855 1.15113284 1.22021606]\n",
      "  [1.0391053  1.13800544 1.31714694 1.3769959  1.23062361]\n",
      "  [1.14741155 1.21381673 1.22589677 1.43075103 1.68374868]]] \n",
      "difference: [[[1. 1. 1. 1. 1.]\n",
      "  [1. 1. 1. 1. 1.]\n",
      "  [1. 1. 1. 1. 1.]]\n",
      "\n",
      " [[1. 1. 1. 1. 1.]\n",
      "  [1. 1. 1. 1. 1.]\n",
      "  [1. 1. 1. 1. 1.]]]\n",
      "B\\c d is the result of c+a, being c an array with only the number one it makes sense that d vary from a in one unit\n"
     ]
    }
   ],
   "source": [
    "# your code/answer here\n",
    "print(\"a:\",a,\"\\nd:\",d,\"\\ndifference:\",(d-a))\n",
    "print(\"B\\c d is the result of c+a, being c an array with only the number one it makes sense that d vary from a in one unit\")"
   ]
  },
  {
   "cell_type": "markdown",
   "metadata": {},
   "source": [
    "#### 12. Multiply *a* and *c*. Assign the result to *e*."
   ]
  },
  {
   "cell_type": "code",
   "execution_count": 99,
   "metadata": {},
   "outputs": [
    {
     "data": {
      "text/plain": [
       "array([[[0.81654951, 0.29684034, 0.8377357 , 0.50612759, 0.10424137],\n",
       "        [0.01043203, 0.08686476, 0.91525394, 0.59884363, 0.37086566],\n",
       "        [0.92879322, 0.22369756, 0.63897708, 0.21018769, 0.17356049]],\n",
       "\n",
       "       [[0.63403854, 0.559426  , 0.51638855, 0.15113284, 0.22021606],\n",
       "        [0.0391053 , 0.13800544, 0.31714694, 0.3769959 , 0.23062361],\n",
       "        [0.14741155, 0.21381673, 0.22589677, 0.43075103, 0.68374868]]])"
      ]
     },
     "execution_count": 99,
     "metadata": {},
     "output_type": "execute_result"
    }
   ],
   "source": [
    "# your code here\n",
    "e=a*c\n",
    "e"
   ]
  },
  {
   "cell_type": "markdown",
   "metadata": {},
   "source": [
    "#### 13. Does *e* equal to *a*? Why or why not?\n"
   ]
  },
  {
   "cell_type": "code",
   "execution_count": 100,
   "metadata": {},
   "outputs": [
    {
     "name": "stdout",
     "output_type": "stream",
     "text": [
      "[[[ True  True  True  True  True]\n",
      "  [ True  True  True  True  True]\n",
      "  [ True  True  True  True  True]]\n",
      "\n",
      " [[ True  True  True  True  True]\n",
      "  [ True  True  True  True  True]\n",
      "  [ True  True  True  True  True]]]\n",
      "They are the same, b\\c e is the result of multiplying the value in a for 1\n"
     ]
    }
   ],
   "source": [
    "# your code/answer here\n",
    "print(a==e)\n",
    "print(\"They are the same, b\\c e is the result of multiplying the value in a for 1\")"
   ]
  },
  {
   "cell_type": "markdown",
   "metadata": {},
   "source": [
    "#### 14. Identify the max, min, and mean values in *d*. Assign those values to variables *d_max*, *d_min* and *d_mean*."
   ]
  },
  {
   "cell_type": "code",
   "execution_count": 145,
   "metadata": {},
   "outputs": [
    {
     "name": "stdout",
     "output_type": "stream",
     "text": [
      "1.9287932206433371 1.0104320294658138 1.386789151047812\n"
     ]
    }
   ],
   "source": [
    "# your code here\n",
    "d_max=d.max()\n",
    "d_min=d.min()\n",
    "d_mean=d.mean()\n",
    "print(d_max, d_min,d_mean)"
   ]
  },
  {
   "cell_type": "markdown",
   "metadata": {},
   "source": [
    "#### 15. Now we want to label the values in *d*. First create an empty array *f* with the same shape (i.e. 2x3x5) as *d* using `np.empty`.\n"
   ]
  },
  {
   "cell_type": "code",
   "execution_count": 191,
   "metadata": {},
   "outputs": [],
   "source": [
    "# your code here\n",
    "f=np.empty([2,3,5],dtype=int)"
   ]
  },
  {
   "cell_type": "markdown",
   "metadata": {},
   "source": [
    "#### 16. Populate the values in *f*. \n",
    "\n",
    "For each value in *d*, if it's larger than *d_min* but smaller than *d_mean*, assign 25 to the corresponding value in *f*. If a value in *d* is larger than *d_mean* but smaller than *d_max*, assign 75 to the corresponding value in *f*. If a value equals to *d_mean*, assign 50 to the corresponding value in *f*. Assign 0 to the corresponding value(s) in *f* for *d_min* in *d*. Assign 100 to the corresponding value(s) in *f* for *d_max* in *d*. In the end, f should have only the following values: 0, 25, 50, 75, and 100.\n",
    "\n",
    "**Note**: you don't have to use Numpy in this question."
   ]
  },
  {
   "cell_type": "code",
   "execution_count": 189,
   "metadata": {},
   "outputs": [],
   "source": [
    "# your code here\n",
    "for index1 in range(2):\n",
    "    for index2 in range(3):\n",
    "        for index3 in range(5):\n",
    "            if d[index1][index2][index3]==d_min:\n",
    "                f[index1][index2][index3]=0\n",
    "            if d[index1][index2][index3]==d_max:\n",
    "                f[index1][index2][index3]=100\n",
    "            if d[index1][index2][index3]==d_mean:\n",
    "                f[index1][index2][index3]=50\n",
    "            if (d[index1][index2][index3]<d_max and d[index1][index2][index3]>d_mean):\n",
    "                f[index1][index2][index3]=75\n",
    "            if (d[index1][index2][index3]>d_min and d[index1][index2][index3]<d_mean):\n",
    "                f[index1][index2][index3]=25"
   ]
  },
  {
   "cell_type": "markdown",
   "metadata": {},
   "source": [
    "#### 17. Print *d* and *f*. Do you have your expected *f*?\n",
    "For instance, if your *d* is:\n",
    "```python\n",
    "[[[1.85836099, 1.67064465, 1.62576044, 1.40243961, 1.88454931],\n",
    "[1.75354326, 1.69403643, 1.36729252, 1.61415071, 1.12104981],\n",
    "[1.72201435, 1.1862918 , 1.87078449, 1.7726778 , 1.88180042]],\n",
    "[[1.44747908, 1.31673383, 1.02000951, 1.52218947, 1.97066381],\n",
    "[1.79129243, 1.74983003, 1.96028037, 1.85166831, 1.65450881],\n",
    "[1.18068344, 1.9587381 , 1.00656599, 1.93402165, 1.73514584]]]\n",
    "```\n",
    "Your *f* should be:\n",
    "```python\n",
    "[[[ 75.,  75.,  75.,  25.,  75.],\n",
    "[ 75.,  75.,  25.,  25.,  25.],\n",
    "[ 75.,  25.,  75.,  75.,  75.]],\n",
    "[[ 25.,  25.,  25.,  25., 100.],\n",
    "[ 75.,  75.,  75.,  75.,  75.],\n",
    "[ 25.,  75.,   0.,  75.,  75.]]]\n",
    "```"
   ]
  },
  {
   "cell_type": "code",
   "execution_count": 188,
   "metadata": {},
   "outputs": [
    {
     "name": "stdout",
     "output_type": "stream",
     "text": [
      "d: [[[1.81654951 1.29684034 1.8377357  1.50612759 1.10424137]\n",
      "  [1.01043203 1.08686476 1.91525394 1.59884363 1.37086566]\n",
      "  [1.92879322 1.22369756 1.63897708 1.21018769 1.17356049]]\n",
      "\n",
      " [[1.63403854 1.559426   1.51638855 1.15113284 1.22021606]\n",
      "  [1.0391053  1.13800544 1.31714694 1.3769959  1.23062361]\n",
      "  [1.14741155 1.21381673 1.22589677 1.43075103 1.68374868]]] \n",
      "f: [[[ 75  25  75  75  25]\n",
      "  [  0  25  75  75  25]\n",
      "  [100  25  75  25  25]]\n",
      "\n",
      " [[ 75  75  75  25  25]\n",
      "  [ 25  25  25  25  25]\n",
      "  [ 25  25  25  75  75]]]\n"
     ]
    }
   ],
   "source": [
    "# your code here\n",
    "print(\"d:\",d,\"\\nf:\",f)\n"
   ]
  },
  {
   "cell_type": "markdown",
   "metadata": {},
   "source": [
    "#### 18. Bonus question: instead of using numbers (i.e. 0, 25, 50, 75, and 100), use string values  (\"A\", \"B\", \"C\", \"D\", and \"E\") to label the array elements. For the example above, the expected result is:\n",
    "\n",
    "```python\n",
    "[[[ 'D',  'D',  'D',  'B',  'D'],\n",
    "[ 'D',  'D',  'B',  'B',  'B'],\n",
    "[ 'D',  'B',  'D',  'D',  'D']],\n",
    "[[ 'B',  'B',  'B',  'B',  'E'],\n",
    "[ 'D',  'D',  'D',  'D',  'D'],\n",
    "[ 'B',  'D',   'A',  'D', 'D']]]\n",
    "```\n",
    "**Note**: you don't have to use Numpy in this question."
   ]
  },
  {
   "cell_type": "code",
   "execution_count": 200,
   "metadata": {},
   "outputs": [
    {
     "data": {
      "text/plain": [
       "array([[['D', 'B', 'D', 'D', 'B'],\n",
       "        ['A', 'B', 'D', 'D', 'B'],\n",
       "        ['E', 'B', 'D', 'B', 'B']],\n",
       "\n",
       "       [['D', 'D', 'D', 'B', 'B'],\n",
       "        ['B', 'B', 'B', 'B', 'B'],\n",
       "        ['B', 'B', 'B', 'D', 'D']]], dtype='<U1')"
      ]
     },
     "execution_count": 200,
     "metadata": {},
     "output_type": "execute_result"
    }
   ],
   "source": [
    "# your code here\n",
    "f=np.empty([2,3,5],dtype=str)\n",
    "for index1 in range(2):\n",
    "    for index2 in range(3):\n",
    "        for index3 in range(5):\n",
    "            if d[index1][index2][index3]==d_min:\n",
    "                f[index1][index2][index3]=\"A\"\n",
    "            if d[index1][index2][index3]==d_max:\n",
    "                f[index1][index2][index3]=\"E\"\n",
    "            if d[index1][index2][index3]==d_mean:\n",
    "                f[index1][index2][index3]=\"C\"\n",
    "            if (d[index1][index2][index3]<d_max and d[index1][index2][index3]>d_mean):\n",
    "                f[index1][index2][index3]=\"D\"\n",
    "            if (d[index1][index2][index3]>d_min and d[index1][index2][index3]<d_mean):\n",
    "                f[index1][index2][index3]=\"B\"\n",
    "f"
   ]
  },
  {
   "cell_type": "code",
   "execution_count": null,
   "metadata": {},
   "outputs": [],
   "source": [
    "\n"
   ]
  }
 ],
 "metadata": {
  "kernelspec": {
   "display_name": "Python 3",
   "language": "python",
   "name": "python3"
  },
  "language_info": {
   "codemirror_mode": {
    "name": "ipython",
    "version": 3
   },
   "file_extension": ".py",
   "mimetype": "text/x-python",
   "name": "python",
   "nbconvert_exporter": "python",
   "pygments_lexer": "ipython3",
   "version": "3.7.7"
  }
 },
 "nbformat": 4,
 "nbformat_minor": 2
}
